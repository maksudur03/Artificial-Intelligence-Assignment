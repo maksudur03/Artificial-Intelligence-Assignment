{
  "nbformat": 4,
  "nbformat_minor": 0,
  "metadata": {
    "colab": {
      "name": "House_Rent_Estimation_with_NN.ipynb",
      "provenance": [],
      "collapsed_sections": [],
      "authorship_tag": "ABX9TyNJBloZRtUX3IH1ecwy9zqV",
      "include_colab_link": true
    },
    "kernelspec": {
      "name": "python3",
      "display_name": "Python 3"
    }
  },
  "cells": [
    {
      "cell_type": "markdown",
      "metadata": {
        "id": "view-in-github",
        "colab_type": "text"
      },
      "source": [
        "<a href=\"https://colab.research.google.com/github/maksudur03/Artificial-Intelligence-Assignment/blob/main/House_Rent_Estimation_with_NN.ipynb\" target=\"_parent\"><img src=\"https://colab.research.google.com/assets/colab-badge.svg\" alt=\"Open In Colab\"/></a>"
      ]
    },
    {
      "cell_type": "code",
      "metadata": {
        "id": "fYvK4LPNawzN"
      },
      "source": [
        "from google.colab import files\n",
        "import pandas as pd\n",
        "import numpy as np\n",
        "import seaborn as sns\n",
        "import matplotlib.pyplot as plt"
      ],
      "execution_count": 2,
      "outputs": []
    },
    {
      "cell_type": "code",
      "metadata": {
        "colab": {
          "resources": {
            "http://localhost:8080/nbextensions/google.colab/files.js": {
              "data": "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",
              "ok": true,
              "headers": [
                [
                  "content-type",
                  "application/javascript"
                ]
              ],
              "status": 200,
              "status_text": ""
            }
          },
          "base_uri": "https://localhost:8080/",
          "height": 72
        },
        "id": "hJTiCmY6jUOs",
        "outputId": "532f3c72-e2f4-4615-ee42-c52948d8b2c4"
      },
      "source": [
        "housing_data=files.upload()"
      ],
      "execution_count": 3,
      "outputs": [
        {
          "output_type": "display_data",
          "data": {
            "text/html": [
              "\n",
              "     <input type=\"file\" id=\"files-8d9c383b-4889-4bf5-8ae8-a2deba4c51bf\" name=\"files[]\" multiple disabled\n",
              "        style=\"border:none\" />\n",
              "     <output id=\"result-8d9c383b-4889-4bf5-8ae8-a2deba4c51bf\">\n",
              "      Upload widget is only available when the cell has been executed in the\n",
              "      current browser session. Please rerun this cell to enable.\n",
              "      </output>\n",
              "      <script src=\"/nbextensions/google.colab/files.js\"></script> "
            ],
            "text/plain": [
              "<IPython.core.display.HTML object>"
            ]
          },
          "metadata": {
            "tags": []
          }
        },
        {
          "output_type": "stream",
          "text": [
            "Saving Housing.csv to Housing.csv\n"
          ],
          "name": "stdout"
        }
      ]
    },
    {
      "cell_type": "code",
      "metadata": {
        "colab": {
          "base_uri": "https://localhost:8080/",
          "height": 204
        },
        "id": "86vHGsFbkPFh",
        "outputId": "20cea747-2a0a-4584-e2ac-e42d562911aa"
      },
      "source": [
        "for key in housing_data.keys():\n",
        "  data = pd.read_csv(key)\n",
        "data.head()"
      ],
      "execution_count": 4,
      "outputs": [
        {
          "output_type": "execute_result",
          "data": {
            "text/html": [
              "<div>\n",
              "<style scoped>\n",
              "    .dataframe tbody tr th:only-of-type {\n",
              "        vertical-align: middle;\n",
              "    }\n",
              "\n",
              "    .dataframe tbody tr th {\n",
              "        vertical-align: top;\n",
              "    }\n",
              "\n",
              "    .dataframe thead th {\n",
              "        text-align: right;\n",
              "    }\n",
              "</style>\n",
              "<table border=\"1\" class=\"dataframe\">\n",
              "  <thead>\n",
              "    <tr style=\"text-align: right;\">\n",
              "      <th></th>\n",
              "      <th>price</th>\n",
              "      <th>area</th>\n",
              "      <th>bedrooms</th>\n",
              "      <th>bathrooms</th>\n",
              "      <th>stories</th>\n",
              "      <th>mainroad</th>\n",
              "      <th>guestroom</th>\n",
              "      <th>basement</th>\n",
              "      <th>hotwaterheating</th>\n",
              "      <th>airconditioning</th>\n",
              "      <th>parking</th>\n",
              "      <th>prefarea</th>\n",
              "      <th>furnishingstatus</th>\n",
              "    </tr>\n",
              "  </thead>\n",
              "  <tbody>\n",
              "    <tr>\n",
              "      <th>0</th>\n",
              "      <td>13300000</td>\n",
              "      <td>7420</td>\n",
              "      <td>4</td>\n",
              "      <td>2</td>\n",
              "      <td>3</td>\n",
              "      <td>yes</td>\n",
              "      <td>no</td>\n",
              "      <td>no</td>\n",
              "      <td>no</td>\n",
              "      <td>yes</td>\n",
              "      <td>2</td>\n",
              "      <td>yes</td>\n",
              "      <td>furnished</td>\n",
              "    </tr>\n",
              "    <tr>\n",
              "      <th>1</th>\n",
              "      <td>12250000</td>\n",
              "      <td>8960</td>\n",
              "      <td>4</td>\n",
              "      <td>4</td>\n",
              "      <td>4</td>\n",
              "      <td>yes</td>\n",
              "      <td>no</td>\n",
              "      <td>no</td>\n",
              "      <td>no</td>\n",
              "      <td>yes</td>\n",
              "      <td>3</td>\n",
              "      <td>no</td>\n",
              "      <td>furnished</td>\n",
              "    </tr>\n",
              "    <tr>\n",
              "      <th>2</th>\n",
              "      <td>12250000</td>\n",
              "      <td>9960</td>\n",
              "      <td>3</td>\n",
              "      <td>2</td>\n",
              "      <td>2</td>\n",
              "      <td>yes</td>\n",
              "      <td>no</td>\n",
              "      <td>yes</td>\n",
              "      <td>no</td>\n",
              "      <td>no</td>\n",
              "      <td>2</td>\n",
              "      <td>yes</td>\n",
              "      <td>semi-furnished</td>\n",
              "    </tr>\n",
              "    <tr>\n",
              "      <th>3</th>\n",
              "      <td>12215000</td>\n",
              "      <td>7500</td>\n",
              "      <td>4</td>\n",
              "      <td>2</td>\n",
              "      <td>2</td>\n",
              "      <td>yes</td>\n",
              "      <td>no</td>\n",
              "      <td>yes</td>\n",
              "      <td>no</td>\n",
              "      <td>yes</td>\n",
              "      <td>3</td>\n",
              "      <td>yes</td>\n",
              "      <td>furnished</td>\n",
              "    </tr>\n",
              "    <tr>\n",
              "      <th>4</th>\n",
              "      <td>11410000</td>\n",
              "      <td>7420</td>\n",
              "      <td>4</td>\n",
              "      <td>1</td>\n",
              "      <td>2</td>\n",
              "      <td>yes</td>\n",
              "      <td>yes</td>\n",
              "      <td>yes</td>\n",
              "      <td>no</td>\n",
              "      <td>yes</td>\n",
              "      <td>2</td>\n",
              "      <td>no</td>\n",
              "      <td>furnished</td>\n",
              "    </tr>\n",
              "  </tbody>\n",
              "</table>\n",
              "</div>"
            ],
            "text/plain": [
              "      price  area  bedrooms  ...  parking  prefarea furnishingstatus\n",
              "0  13300000  7420         4  ...        2       yes        furnished\n",
              "1  12250000  8960         4  ...        3        no        furnished\n",
              "2  12250000  9960         3  ...        2       yes   semi-furnished\n",
              "3  12215000  7500         4  ...        3       yes        furnished\n",
              "4  11410000  7420         4  ...        2        no        furnished\n",
              "\n",
              "[5 rows x 13 columns]"
            ]
          },
          "metadata": {
            "tags": []
          },
          "execution_count": 4
        }
      ]
    },
    {
      "cell_type": "code",
      "metadata": {
        "id": "J5MG_eBAk3DC",
        "colab": {
          "base_uri": "https://localhost:8080/"
        },
        "outputId": "c4be6d99-95d8-49e7-fce1-9747932c2fc3"
      },
      "source": [
        "data.info()"
      ],
      "execution_count": 5,
      "outputs": [
        {
          "output_type": "stream",
          "text": [
            "<class 'pandas.core.frame.DataFrame'>\n",
            "RangeIndex: 545 entries, 0 to 544\n",
            "Data columns (total 13 columns):\n",
            " #   Column            Non-Null Count  Dtype \n",
            "---  ------            --------------  ----- \n",
            " 0   price             545 non-null    int64 \n",
            " 1   area              545 non-null    int64 \n",
            " 2   bedrooms          545 non-null    int64 \n",
            " 3   bathrooms         545 non-null    int64 \n",
            " 4   stories           545 non-null    int64 \n",
            " 5   mainroad          545 non-null    object\n",
            " 6   guestroom         545 non-null    object\n",
            " 7   basement          545 non-null    object\n",
            " 8   hotwaterheating   545 non-null    object\n",
            " 9   airconditioning   545 non-null    object\n",
            " 10  parking           545 non-null    int64 \n",
            " 11  prefarea          545 non-null    object\n",
            " 12  furnishingstatus  545 non-null    object\n",
            "dtypes: int64(6), object(7)\n",
            "memory usage: 55.5+ KB\n"
          ],
          "name": "stdout"
        }
      ]
    },
    {
      "cell_type": "code",
      "metadata": {
        "id": "9sdNqv9Tlw25",
        "colab": {
          "base_uri": "https://localhost:8080/",
          "height": 297
        },
        "outputId": "9059b555-0d47-4b7b-ddfb-377584351db1"
      },
      "source": [
        "data.describe()"
      ],
      "execution_count": 6,
      "outputs": [
        {
          "output_type": "execute_result",
          "data": {
            "text/html": [
              "<div>\n",
              "<style scoped>\n",
              "    .dataframe tbody tr th:only-of-type {\n",
              "        vertical-align: middle;\n",
              "    }\n",
              "\n",
              "    .dataframe tbody tr th {\n",
              "        vertical-align: top;\n",
              "    }\n",
              "\n",
              "    .dataframe thead th {\n",
              "        text-align: right;\n",
              "    }\n",
              "</style>\n",
              "<table border=\"1\" class=\"dataframe\">\n",
              "  <thead>\n",
              "    <tr style=\"text-align: right;\">\n",
              "      <th></th>\n",
              "      <th>price</th>\n",
              "      <th>area</th>\n",
              "      <th>bedrooms</th>\n",
              "      <th>bathrooms</th>\n",
              "      <th>stories</th>\n",
              "      <th>parking</th>\n",
              "    </tr>\n",
              "  </thead>\n",
              "  <tbody>\n",
              "    <tr>\n",
              "      <th>count</th>\n",
              "      <td>5.450000e+02</td>\n",
              "      <td>545.000000</td>\n",
              "      <td>545.000000</td>\n",
              "      <td>545.000000</td>\n",
              "      <td>545.000000</td>\n",
              "      <td>545.000000</td>\n",
              "    </tr>\n",
              "    <tr>\n",
              "      <th>mean</th>\n",
              "      <td>4.766729e+06</td>\n",
              "      <td>5150.541284</td>\n",
              "      <td>2.965138</td>\n",
              "      <td>1.286239</td>\n",
              "      <td>1.805505</td>\n",
              "      <td>0.693578</td>\n",
              "    </tr>\n",
              "    <tr>\n",
              "      <th>std</th>\n",
              "      <td>1.870440e+06</td>\n",
              "      <td>2170.141023</td>\n",
              "      <td>0.738064</td>\n",
              "      <td>0.502470</td>\n",
              "      <td>0.867492</td>\n",
              "      <td>0.861586</td>\n",
              "    </tr>\n",
              "    <tr>\n",
              "      <th>min</th>\n",
              "      <td>1.750000e+06</td>\n",
              "      <td>1650.000000</td>\n",
              "      <td>1.000000</td>\n",
              "      <td>1.000000</td>\n",
              "      <td>1.000000</td>\n",
              "      <td>0.000000</td>\n",
              "    </tr>\n",
              "    <tr>\n",
              "      <th>25%</th>\n",
              "      <td>3.430000e+06</td>\n",
              "      <td>3600.000000</td>\n",
              "      <td>2.000000</td>\n",
              "      <td>1.000000</td>\n",
              "      <td>1.000000</td>\n",
              "      <td>0.000000</td>\n",
              "    </tr>\n",
              "    <tr>\n",
              "      <th>50%</th>\n",
              "      <td>4.340000e+06</td>\n",
              "      <td>4600.000000</td>\n",
              "      <td>3.000000</td>\n",
              "      <td>1.000000</td>\n",
              "      <td>2.000000</td>\n",
              "      <td>0.000000</td>\n",
              "    </tr>\n",
              "    <tr>\n",
              "      <th>75%</th>\n",
              "      <td>5.740000e+06</td>\n",
              "      <td>6360.000000</td>\n",
              "      <td>3.000000</td>\n",
              "      <td>2.000000</td>\n",
              "      <td>2.000000</td>\n",
              "      <td>1.000000</td>\n",
              "    </tr>\n",
              "    <tr>\n",
              "      <th>max</th>\n",
              "      <td>1.330000e+07</td>\n",
              "      <td>16200.000000</td>\n",
              "      <td>6.000000</td>\n",
              "      <td>4.000000</td>\n",
              "      <td>4.000000</td>\n",
              "      <td>3.000000</td>\n",
              "    </tr>\n",
              "  </tbody>\n",
              "</table>\n",
              "</div>"
            ],
            "text/plain": [
              "              price          area  ...     stories     parking\n",
              "count  5.450000e+02    545.000000  ...  545.000000  545.000000\n",
              "mean   4.766729e+06   5150.541284  ...    1.805505    0.693578\n",
              "std    1.870440e+06   2170.141023  ...    0.867492    0.861586\n",
              "min    1.750000e+06   1650.000000  ...    1.000000    0.000000\n",
              "25%    3.430000e+06   3600.000000  ...    1.000000    0.000000\n",
              "50%    4.340000e+06   4600.000000  ...    2.000000    0.000000\n",
              "75%    5.740000e+06   6360.000000  ...    2.000000    1.000000\n",
              "max    1.330000e+07  16200.000000  ...    4.000000    3.000000\n",
              "\n",
              "[8 rows x 6 columns]"
            ]
          },
          "metadata": {
            "tags": []
          },
          "execution_count": 6
        }
      ]
    },
    {
      "cell_type": "code",
      "metadata": {
        "colab": {
          "base_uri": "https://localhost:8080/"
        },
        "id": "hCzhqOOUl8gi",
        "outputId": "df7eeb9d-0d70-435b-c024-1ef40ee01ea6"
      },
      "source": [
        "data.isnull().sum()"
      ],
      "execution_count": 7,
      "outputs": [
        {
          "output_type": "execute_result",
          "data": {
            "text/plain": [
              "price               0\n",
              "area                0\n",
              "bedrooms            0\n",
              "bathrooms           0\n",
              "stories             0\n",
              "mainroad            0\n",
              "guestroom           0\n",
              "basement            0\n",
              "hotwaterheating     0\n",
              "airconditioning     0\n",
              "parking             0\n",
              "prefarea            0\n",
              "furnishingstatus    0\n",
              "dtype: int64"
            ]
          },
          "metadata": {
            "tags": []
          },
          "execution_count": 7
        }
      ]
    },
    {
      "cell_type": "code",
      "metadata": {
        "id": "0aDcSwx98gfz"
      },
      "source": [
        "varlist =  ['mainroad', 'guestroom', 'basement', 'hotwaterheating', 'airconditioning', 'prefarea']\n",
        "\n",
        "# Defining the map function\n",
        "def binary_map(x):\n",
        "    return x.map({'yes': 1, 'no': 0})\n",
        "\n",
        "# Applying the function to the housing list\n",
        "data[varlist] = data[varlist].apply(binary_map)"
      ],
      "execution_count": 8,
      "outputs": []
    },
    {
      "cell_type": "code",
      "metadata": {
        "colab": {
          "base_uri": "https://localhost:8080/",
          "height": 204
        },
        "id": "JhOz24mw8qeL",
        "outputId": "c99941bf-6209-4009-bfc7-fc7342c3712e"
      },
      "source": [
        "data.head()"
      ],
      "execution_count": 9,
      "outputs": [
        {
          "output_type": "execute_result",
          "data": {
            "text/html": [
              "<div>\n",
              "<style scoped>\n",
              "    .dataframe tbody tr th:only-of-type {\n",
              "        vertical-align: middle;\n",
              "    }\n",
              "\n",
              "    .dataframe tbody tr th {\n",
              "        vertical-align: top;\n",
              "    }\n",
              "\n",
              "    .dataframe thead th {\n",
              "        text-align: right;\n",
              "    }\n",
              "</style>\n",
              "<table border=\"1\" class=\"dataframe\">\n",
              "  <thead>\n",
              "    <tr style=\"text-align: right;\">\n",
              "      <th></th>\n",
              "      <th>price</th>\n",
              "      <th>area</th>\n",
              "      <th>bedrooms</th>\n",
              "      <th>bathrooms</th>\n",
              "      <th>stories</th>\n",
              "      <th>mainroad</th>\n",
              "      <th>guestroom</th>\n",
              "      <th>basement</th>\n",
              "      <th>hotwaterheating</th>\n",
              "      <th>airconditioning</th>\n",
              "      <th>parking</th>\n",
              "      <th>prefarea</th>\n",
              "      <th>furnishingstatus</th>\n",
              "    </tr>\n",
              "  </thead>\n",
              "  <tbody>\n",
              "    <tr>\n",
              "      <th>0</th>\n",
              "      <td>13300000</td>\n",
              "      <td>7420</td>\n",
              "      <td>4</td>\n",
              "      <td>2</td>\n",
              "      <td>3</td>\n",
              "      <td>1</td>\n",
              "      <td>0</td>\n",
              "      <td>0</td>\n",
              "      <td>0</td>\n",
              "      <td>1</td>\n",
              "      <td>2</td>\n",
              "      <td>1</td>\n",
              "      <td>furnished</td>\n",
              "    </tr>\n",
              "    <tr>\n",
              "      <th>1</th>\n",
              "      <td>12250000</td>\n",
              "      <td>8960</td>\n",
              "      <td>4</td>\n",
              "      <td>4</td>\n",
              "      <td>4</td>\n",
              "      <td>1</td>\n",
              "      <td>0</td>\n",
              "      <td>0</td>\n",
              "      <td>0</td>\n",
              "      <td>1</td>\n",
              "      <td>3</td>\n",
              "      <td>0</td>\n",
              "      <td>furnished</td>\n",
              "    </tr>\n",
              "    <tr>\n",
              "      <th>2</th>\n",
              "      <td>12250000</td>\n",
              "      <td>9960</td>\n",
              "      <td>3</td>\n",
              "      <td>2</td>\n",
              "      <td>2</td>\n",
              "      <td>1</td>\n",
              "      <td>0</td>\n",
              "      <td>1</td>\n",
              "      <td>0</td>\n",
              "      <td>0</td>\n",
              "      <td>2</td>\n",
              "      <td>1</td>\n",
              "      <td>semi-furnished</td>\n",
              "    </tr>\n",
              "    <tr>\n",
              "      <th>3</th>\n",
              "      <td>12215000</td>\n",
              "      <td>7500</td>\n",
              "      <td>4</td>\n",
              "      <td>2</td>\n",
              "      <td>2</td>\n",
              "      <td>1</td>\n",
              "      <td>0</td>\n",
              "      <td>1</td>\n",
              "      <td>0</td>\n",
              "      <td>1</td>\n",
              "      <td>3</td>\n",
              "      <td>1</td>\n",
              "      <td>furnished</td>\n",
              "    </tr>\n",
              "    <tr>\n",
              "      <th>4</th>\n",
              "      <td>11410000</td>\n",
              "      <td>7420</td>\n",
              "      <td>4</td>\n",
              "      <td>1</td>\n",
              "      <td>2</td>\n",
              "      <td>1</td>\n",
              "      <td>1</td>\n",
              "      <td>1</td>\n",
              "      <td>0</td>\n",
              "      <td>1</td>\n",
              "      <td>2</td>\n",
              "      <td>0</td>\n",
              "      <td>furnished</td>\n",
              "    </tr>\n",
              "  </tbody>\n",
              "</table>\n",
              "</div>"
            ],
            "text/plain": [
              "      price  area  bedrooms  ...  parking  prefarea  furnishingstatus\n",
              "0  13300000  7420         4  ...        2         1         furnished\n",
              "1  12250000  8960         4  ...        3         0         furnished\n",
              "2  12250000  9960         3  ...        2         1    semi-furnished\n",
              "3  12215000  7500         4  ...        3         1         furnished\n",
              "4  11410000  7420         4  ...        2         0         furnished\n",
              "\n",
              "[5 rows x 13 columns]"
            ]
          },
          "metadata": {
            "tags": []
          },
          "execution_count": 9
        }
      ]
    },
    {
      "cell_type": "code",
      "metadata": {
        "colab": {
          "base_uri": "https://localhost:8080/",
          "height": 419
        },
        "id": "KpjmceNV5XGb",
        "outputId": "f6df793d-100f-4f35-cc04-0a9e0e8d15c2"
      },
      "source": [
        "furnishing_status = pd.get_dummies(data['furnishingstatus'])\n",
        "furnishing_status"
      ],
      "execution_count": 10,
      "outputs": [
        {
          "output_type": "execute_result",
          "data": {
            "text/html": [
              "<div>\n",
              "<style scoped>\n",
              "    .dataframe tbody tr th:only-of-type {\n",
              "        vertical-align: middle;\n",
              "    }\n",
              "\n",
              "    .dataframe tbody tr th {\n",
              "        vertical-align: top;\n",
              "    }\n",
              "\n",
              "    .dataframe thead th {\n",
              "        text-align: right;\n",
              "    }\n",
              "</style>\n",
              "<table border=\"1\" class=\"dataframe\">\n",
              "  <thead>\n",
              "    <tr style=\"text-align: right;\">\n",
              "      <th></th>\n",
              "      <th>furnished</th>\n",
              "      <th>semi-furnished</th>\n",
              "      <th>unfurnished</th>\n",
              "    </tr>\n",
              "  </thead>\n",
              "  <tbody>\n",
              "    <tr>\n",
              "      <th>0</th>\n",
              "      <td>1</td>\n",
              "      <td>0</td>\n",
              "      <td>0</td>\n",
              "    </tr>\n",
              "    <tr>\n",
              "      <th>1</th>\n",
              "      <td>1</td>\n",
              "      <td>0</td>\n",
              "      <td>0</td>\n",
              "    </tr>\n",
              "    <tr>\n",
              "      <th>2</th>\n",
              "      <td>0</td>\n",
              "      <td>1</td>\n",
              "      <td>0</td>\n",
              "    </tr>\n",
              "    <tr>\n",
              "      <th>3</th>\n",
              "      <td>1</td>\n",
              "      <td>0</td>\n",
              "      <td>0</td>\n",
              "    </tr>\n",
              "    <tr>\n",
              "      <th>4</th>\n",
              "      <td>1</td>\n",
              "      <td>0</td>\n",
              "      <td>0</td>\n",
              "    </tr>\n",
              "    <tr>\n",
              "      <th>...</th>\n",
              "      <td>...</td>\n",
              "      <td>...</td>\n",
              "      <td>...</td>\n",
              "    </tr>\n",
              "    <tr>\n",
              "      <th>540</th>\n",
              "      <td>0</td>\n",
              "      <td>0</td>\n",
              "      <td>1</td>\n",
              "    </tr>\n",
              "    <tr>\n",
              "      <th>541</th>\n",
              "      <td>0</td>\n",
              "      <td>1</td>\n",
              "      <td>0</td>\n",
              "    </tr>\n",
              "    <tr>\n",
              "      <th>542</th>\n",
              "      <td>0</td>\n",
              "      <td>0</td>\n",
              "      <td>1</td>\n",
              "    </tr>\n",
              "    <tr>\n",
              "      <th>543</th>\n",
              "      <td>1</td>\n",
              "      <td>0</td>\n",
              "      <td>0</td>\n",
              "    </tr>\n",
              "    <tr>\n",
              "      <th>544</th>\n",
              "      <td>0</td>\n",
              "      <td>0</td>\n",
              "      <td>1</td>\n",
              "    </tr>\n",
              "  </tbody>\n",
              "</table>\n",
              "<p>545 rows × 3 columns</p>\n",
              "</div>"
            ],
            "text/plain": [
              "     furnished  semi-furnished  unfurnished\n",
              "0            1               0            0\n",
              "1            1               0            0\n",
              "2            0               1            0\n",
              "3            1               0            0\n",
              "4            1               0            0\n",
              "..         ...             ...          ...\n",
              "540          0               0            1\n",
              "541          0               1            0\n",
              "542          0               0            1\n",
              "543          1               0            0\n",
              "544          0               0            1\n",
              "\n",
              "[545 rows x 3 columns]"
            ]
          },
          "metadata": {
            "tags": []
          },
          "execution_count": 10
        }
      ]
    },
    {
      "cell_type": "code",
      "metadata": {
        "colab": {
          "base_uri": "https://localhost:8080/",
          "height": 456
        },
        "id": "Le26oFsq9o86",
        "outputId": "5d5c65c3-156a-4619-ad62-808d7c7d870e"
      },
      "source": [
        "data = pd.concat([data, furnishing_status], axis = 1)\n",
        "data"
      ],
      "execution_count": 11,
      "outputs": [
        {
          "output_type": "execute_result",
          "data": {
            "text/html": [
              "<div>\n",
              "<style scoped>\n",
              "    .dataframe tbody tr th:only-of-type {\n",
              "        vertical-align: middle;\n",
              "    }\n",
              "\n",
              "    .dataframe tbody tr th {\n",
              "        vertical-align: top;\n",
              "    }\n",
              "\n",
              "    .dataframe thead th {\n",
              "        text-align: right;\n",
              "    }\n",
              "</style>\n",
              "<table border=\"1\" class=\"dataframe\">\n",
              "  <thead>\n",
              "    <tr style=\"text-align: right;\">\n",
              "      <th></th>\n",
              "      <th>price</th>\n",
              "      <th>area</th>\n",
              "      <th>bedrooms</th>\n",
              "      <th>bathrooms</th>\n",
              "      <th>stories</th>\n",
              "      <th>mainroad</th>\n",
              "      <th>guestroom</th>\n",
              "      <th>basement</th>\n",
              "      <th>hotwaterheating</th>\n",
              "      <th>airconditioning</th>\n",
              "      <th>parking</th>\n",
              "      <th>prefarea</th>\n",
              "      <th>furnishingstatus</th>\n",
              "      <th>furnished</th>\n",
              "      <th>semi-furnished</th>\n",
              "      <th>unfurnished</th>\n",
              "    </tr>\n",
              "  </thead>\n",
              "  <tbody>\n",
              "    <tr>\n",
              "      <th>0</th>\n",
              "      <td>13300000</td>\n",
              "      <td>7420</td>\n",
              "      <td>4</td>\n",
              "      <td>2</td>\n",
              "      <td>3</td>\n",
              "      <td>1</td>\n",
              "      <td>0</td>\n",
              "      <td>0</td>\n",
              "      <td>0</td>\n",
              "      <td>1</td>\n",
              "      <td>2</td>\n",
              "      <td>1</td>\n",
              "      <td>furnished</td>\n",
              "      <td>1</td>\n",
              "      <td>0</td>\n",
              "      <td>0</td>\n",
              "    </tr>\n",
              "    <tr>\n",
              "      <th>1</th>\n",
              "      <td>12250000</td>\n",
              "      <td>8960</td>\n",
              "      <td>4</td>\n",
              "      <td>4</td>\n",
              "      <td>4</td>\n",
              "      <td>1</td>\n",
              "      <td>0</td>\n",
              "      <td>0</td>\n",
              "      <td>0</td>\n",
              "      <td>1</td>\n",
              "      <td>3</td>\n",
              "      <td>0</td>\n",
              "      <td>furnished</td>\n",
              "      <td>1</td>\n",
              "      <td>0</td>\n",
              "      <td>0</td>\n",
              "    </tr>\n",
              "    <tr>\n",
              "      <th>2</th>\n",
              "      <td>12250000</td>\n",
              "      <td>9960</td>\n",
              "      <td>3</td>\n",
              "      <td>2</td>\n",
              "      <td>2</td>\n",
              "      <td>1</td>\n",
              "      <td>0</td>\n",
              "      <td>1</td>\n",
              "      <td>0</td>\n",
              "      <td>0</td>\n",
              "      <td>2</td>\n",
              "      <td>1</td>\n",
              "      <td>semi-furnished</td>\n",
              "      <td>0</td>\n",
              "      <td>1</td>\n",
              "      <td>0</td>\n",
              "    </tr>\n",
              "    <tr>\n",
              "      <th>3</th>\n",
              "      <td>12215000</td>\n",
              "      <td>7500</td>\n",
              "      <td>4</td>\n",
              "      <td>2</td>\n",
              "      <td>2</td>\n",
              "      <td>1</td>\n",
              "      <td>0</td>\n",
              "      <td>1</td>\n",
              "      <td>0</td>\n",
              "      <td>1</td>\n",
              "      <td>3</td>\n",
              "      <td>1</td>\n",
              "      <td>furnished</td>\n",
              "      <td>1</td>\n",
              "      <td>0</td>\n",
              "      <td>0</td>\n",
              "    </tr>\n",
              "    <tr>\n",
              "      <th>4</th>\n",
              "      <td>11410000</td>\n",
              "      <td>7420</td>\n",
              "      <td>4</td>\n",
              "      <td>1</td>\n",
              "      <td>2</td>\n",
              "      <td>1</td>\n",
              "      <td>1</td>\n",
              "      <td>1</td>\n",
              "      <td>0</td>\n",
              "      <td>1</td>\n",
              "      <td>2</td>\n",
              "      <td>0</td>\n",
              "      <td>furnished</td>\n",
              "      <td>1</td>\n",
              "      <td>0</td>\n",
              "      <td>0</td>\n",
              "    </tr>\n",
              "    <tr>\n",
              "      <th>...</th>\n",
              "      <td>...</td>\n",
              "      <td>...</td>\n",
              "      <td>...</td>\n",
              "      <td>...</td>\n",
              "      <td>...</td>\n",
              "      <td>...</td>\n",
              "      <td>...</td>\n",
              "      <td>...</td>\n",
              "      <td>...</td>\n",
              "      <td>...</td>\n",
              "      <td>...</td>\n",
              "      <td>...</td>\n",
              "      <td>...</td>\n",
              "      <td>...</td>\n",
              "      <td>...</td>\n",
              "      <td>...</td>\n",
              "    </tr>\n",
              "    <tr>\n",
              "      <th>540</th>\n",
              "      <td>1820000</td>\n",
              "      <td>3000</td>\n",
              "      <td>2</td>\n",
              "      <td>1</td>\n",
              "      <td>1</td>\n",
              "      <td>1</td>\n",
              "      <td>0</td>\n",
              "      <td>1</td>\n",
              "      <td>0</td>\n",
              "      <td>0</td>\n",
              "      <td>2</td>\n",
              "      <td>0</td>\n",
              "      <td>unfurnished</td>\n",
              "      <td>0</td>\n",
              "      <td>0</td>\n",
              "      <td>1</td>\n",
              "    </tr>\n",
              "    <tr>\n",
              "      <th>541</th>\n",
              "      <td>1767150</td>\n",
              "      <td>2400</td>\n",
              "      <td>3</td>\n",
              "      <td>1</td>\n",
              "      <td>1</td>\n",
              "      <td>0</td>\n",
              "      <td>0</td>\n",
              "      <td>0</td>\n",
              "      <td>0</td>\n",
              "      <td>0</td>\n",
              "      <td>0</td>\n",
              "      <td>0</td>\n",
              "      <td>semi-furnished</td>\n",
              "      <td>0</td>\n",
              "      <td>1</td>\n",
              "      <td>0</td>\n",
              "    </tr>\n",
              "    <tr>\n",
              "      <th>542</th>\n",
              "      <td>1750000</td>\n",
              "      <td>3620</td>\n",
              "      <td>2</td>\n",
              "      <td>1</td>\n",
              "      <td>1</td>\n",
              "      <td>1</td>\n",
              "      <td>0</td>\n",
              "      <td>0</td>\n",
              "      <td>0</td>\n",
              "      <td>0</td>\n",
              "      <td>0</td>\n",
              "      <td>0</td>\n",
              "      <td>unfurnished</td>\n",
              "      <td>0</td>\n",
              "      <td>0</td>\n",
              "      <td>1</td>\n",
              "    </tr>\n",
              "    <tr>\n",
              "      <th>543</th>\n",
              "      <td>1750000</td>\n",
              "      <td>2910</td>\n",
              "      <td>3</td>\n",
              "      <td>1</td>\n",
              "      <td>1</td>\n",
              "      <td>0</td>\n",
              "      <td>0</td>\n",
              "      <td>0</td>\n",
              "      <td>0</td>\n",
              "      <td>0</td>\n",
              "      <td>0</td>\n",
              "      <td>0</td>\n",
              "      <td>furnished</td>\n",
              "      <td>1</td>\n",
              "      <td>0</td>\n",
              "      <td>0</td>\n",
              "    </tr>\n",
              "    <tr>\n",
              "      <th>544</th>\n",
              "      <td>1750000</td>\n",
              "      <td>3850</td>\n",
              "      <td>3</td>\n",
              "      <td>1</td>\n",
              "      <td>2</td>\n",
              "      <td>1</td>\n",
              "      <td>0</td>\n",
              "      <td>0</td>\n",
              "      <td>0</td>\n",
              "      <td>0</td>\n",
              "      <td>0</td>\n",
              "      <td>0</td>\n",
              "      <td>unfurnished</td>\n",
              "      <td>0</td>\n",
              "      <td>0</td>\n",
              "      <td>1</td>\n",
              "    </tr>\n",
              "  </tbody>\n",
              "</table>\n",
              "<p>545 rows × 16 columns</p>\n",
              "</div>"
            ],
            "text/plain": [
              "        price  area  bedrooms  ...  furnished  semi-furnished  unfurnished\n",
              "0    13300000  7420         4  ...          1               0            0\n",
              "1    12250000  8960         4  ...          1               0            0\n",
              "2    12250000  9960         3  ...          0               1            0\n",
              "3    12215000  7500         4  ...          1               0            0\n",
              "4    11410000  7420         4  ...          1               0            0\n",
              "..        ...   ...       ...  ...        ...             ...          ...\n",
              "540   1820000  3000         2  ...          0               0            1\n",
              "541   1767150  2400         3  ...          0               1            0\n",
              "542   1750000  3620         2  ...          0               0            1\n",
              "543   1750000  2910         3  ...          1               0            0\n",
              "544   1750000  3850         3  ...          0               0            1\n",
              "\n",
              "[545 rows x 16 columns]"
            ]
          },
          "metadata": {
            "tags": []
          },
          "execution_count": 11
        }
      ]
    },
    {
      "cell_type": "code",
      "metadata": {
        "id": "D5Qmhxb09z33"
      },
      "source": [
        "data.drop(['furnishingstatus'], axis = 1, inplace = True)"
      ],
      "execution_count": 12,
      "outputs": []
    },
    {
      "cell_type": "code",
      "metadata": {
        "colab": {
          "base_uri": "https://localhost:8080/",
          "height": 685
        },
        "id": "fq6atBbHB5mg",
        "outputId": "56bc932f-0771-499c-d8e6-01ef060cc4c4"
      },
      "source": [
        "corr = data.corr()\n",
        "plt.figure(figsize=(10,10))\n",
        "sns.heatmap(corr, annot=True, cmap='coolwarm')"
      ],
      "execution_count": 13,
      "outputs": [
        {
          "output_type": "execute_result",
          "data": {
            "text/plain": [
              "<matplotlib.axes._subplots.AxesSubplot at 0x7f4105bbca20>"
            ]
          },
          "metadata": {
            "tags": []
          },
          "execution_count": 13
        },
        {
          "output_type": "display_data",
          "data": {
            "image/png": "[encoded data removed]",
            "text/plain": [
              "<Figure size 720x720 with 2 Axes>"
            ]
          },
          "metadata": {
            "tags": [],
            "needs_background": "light"
          }
        }
      ]
    },
    {
      "cell_type": "code",
      "metadata": {
        "id": "2rLj1tLvARh3"
      },
      "source": [
        "#We will choose area,bedrooms,bathrooms,stories,mainroad,guestroom, airconditioning,parking as they are correlated with price\n",
        "X = data.drop(columns=[\"price\",\"basement\",\"hotwaterheating\",\"prefarea\",\"furnished\",\"semi-furnished\",\"unfurnished\"])\n",
        "Y = data[\"price\"]\n"
      ],
      "execution_count": 14,
      "outputs": []
    },
    {
      "cell_type": "code",
      "metadata": {
        "id": "T1C6Ub9UnNzo"
      },
      "source": [
        "X"
      ],
      "execution_count": null,
      "outputs": []
    },
    {
      "cell_type": "code",
      "metadata": {
        "id": "P43oQqcWDwYd"
      },
      "source": [
        "from sklearn.model_selection import train_test_split\n",
        "X_train, X_test, Y_train, Y_test = train_test_split(X, Y, test_size=0.1,random_state=42)"
      ],
      "execution_count": 34,
      "outputs": []
    },
    {
      "cell_type": "code",
      "metadata": {
        "id": "5W0_4UZol3rL"
      },
      "source": [
        "import keras\n",
        "from keras.models import Sequential\n",
        "from keras.layers import Dense\n",
        "from keras.layers import LeakyReLU,PReLU,ELU\n",
        "from keras.layers import Dropout"
      ],
      "execution_count": 35,
      "outputs": []
    },
    {
      "cell_type": "code",
      "metadata": {
        "colab": {
          "base_uri": "https://localhost:8080/"
        },
        "id": "GQyDHgBllFvH",
        "outputId": "a90490f4-7cd4-42a4-d9e9-1b31abe879ca"
      },
      "source": [
        "model = Sequential()\n",
        "model.add(Dense(128, kernel_initializer='normal',input_dim = X_train.shape[1], activation='relu'))\n",
        "\n",
        "model.add(Dense(256, kernel_initializer='normal',activation='relu'))\n",
        "model.add(Dense(256, kernel_initializer='normal',activation='relu'))\n",
        "model.add(Dense(256, kernel_initializer='normal',activation='relu'))\n",
        "\n",
        "model.add(Dense(1, kernel_initializer='normal',activation='linear'))\n",
        "\n",
        "model.compile(loss='mean_absolute_error', optimizer='adam', metrics=['mean_absolute_error'])\n",
        "model.summary()\n",
        "\n",
        "model_history=model.fit(X_train, Y_train,validation_split=0.33, batch_size = 10,epochs = 100)"
      ],
      "execution_count": 36,
      "outputs": [
        {
          "output_type": "stream",
          "text": [
            "Model: \"sequential_2\"\n",
            "_________________________________________________________________\n",
            "Layer (type)                 Output Shape              Param #   \n",
            "=================================================================\n",
            "dense_10 (Dense)             (None, 128)               1152      \n",
            "_________________________________________________________________\n",
            "dense_11 (Dense)             (None, 256)               33024     \n",
            "_________________________________________________________________\n",
            "dense_12 (Dense)             (None, 256)               65792     \n",
            "_________________________________________________________________\n",
            "dense_13 (Dense)             (None, 256)               65792     \n",
            "_________________________________________________________________\n",
            "dense_14 (Dense)             (None, 1)                 257       \n",
            "=================================================================\n",
            "Total params: 166,017\n",
            "Trainable params: 166,017\n",
            "Non-trainable params: 0\n",
            "_________________________________________________________________\n",
            "Epoch 1/100\n",
            "33/33 [==============================] - 1s 9ms/step - loss: 4733487.4853 - mean_absolute_error: 4733487.4853 - val_loss: 4628744.0000 - val_mean_absolute_error: 4628744.0000\n",
            "Epoch 2/100\n",
            "33/33 [==============================] - 0s 5ms/step - loss: 4455416.9412 - mean_absolute_error: 4455416.9412 - val_loss: 1974908.0000 - val_mean_absolute_error: 1974908.0000\n",
            "Epoch 3/100\n",
            "33/33 [==============================] - 0s 5ms/step - loss: 1675893.8603 - mean_absolute_error: 1675893.8603 - val_loss: 1312120.7500 - val_mean_absolute_error: 1312120.7500\n",
            "Epoch 4/100\n",
            "33/33 [==============================] - 0s 5ms/step - loss: 1497977.7426 - mean_absolute_error: 1497977.7537 - val_loss: 1277518.0000 - val_mean_absolute_error: 1277518.0000\n",
            "Epoch 5/100\n",
            "33/33 [==============================] - 0s 4ms/step - loss: 1535000.3309 - mean_absolute_error: 1535000.3235 - val_loss: 1211887.7500 - val_mean_absolute_error: 1211887.7500\n",
            "Epoch 6/100\n",
            "33/33 [==============================] - 0s 5ms/step - loss: 1336782.5919 - mean_absolute_error: 1336782.5919 - val_loss: 1187904.7500 - val_mean_absolute_error: 1187904.7500\n",
            "Epoch 7/100\n",
            "33/33 [==============================] - 0s 4ms/step - loss: 1593040.0257 - mean_absolute_error: 1593040.0368 - val_loss: 1176396.5000 - val_mean_absolute_error: 1176396.5000\n",
            "Epoch 8/100\n",
            "33/33 [==============================] - 0s 5ms/step - loss: 1554305.4926 - mean_absolute_error: 1554305.4926 - val_loss: 1186218.7500 - val_mean_absolute_error: 1186218.7500\n",
            "Epoch 9/100\n",
            "33/33 [==============================] - 0s 5ms/step - loss: 1461430.5919 - mean_absolute_error: 1461430.5919 - val_loss: 1177802.2500 - val_mean_absolute_error: 1177802.2500\n",
            "Epoch 10/100\n",
            "33/33 [==============================] - 0s 4ms/step - loss: 1457753.7574 - mean_absolute_error: 1457753.7574 - val_loss: 1230586.7500 - val_mean_absolute_error: 1230586.7500\n",
            "Epoch 11/100\n",
            "33/33 [==============================] - 0s 5ms/step - loss: 1538366.2206 - mean_absolute_error: 1538366.2206 - val_loss: 1186410.7500 - val_mean_absolute_error: 1186410.7500\n",
            "Epoch 12/100\n",
            "33/33 [==============================] - 0s 4ms/step - loss: 1434860.8199 - mean_absolute_error: 1434860.8199 - val_loss: 1186618.5000 - val_mean_absolute_error: 1186618.5000\n",
            "Epoch 13/100\n",
            "33/33 [==============================] - 0s 4ms/step - loss: 1522961.5772 - mean_absolute_error: 1522961.5735 - val_loss: 1191179.3750 - val_mean_absolute_error: 1191179.3750\n",
            "Epoch 14/100\n",
            "33/33 [==============================] - 0s 9ms/step - loss: 1427195.9301 - mean_absolute_error: 1427196.0368 - val_loss: 1199869.5000 - val_mean_absolute_error: 1199869.5000\n",
            "Epoch 15/100\n",
            "33/33 [==============================] - 0s 5ms/step - loss: 1518729.5993 - mean_absolute_error: 1518729.5993 - val_loss: 1329528.1250 - val_mean_absolute_error: 1329528.1250\n",
            "Epoch 16/100\n",
            "33/33 [==============================] - 0s 4ms/step - loss: 1366803.2390 - mean_absolute_error: 1366803.2390 - val_loss: 1262269.6250 - val_mean_absolute_error: 1262269.6250\n",
            "Epoch 17/100\n",
            "33/33 [==============================] - 0s 4ms/step - loss: 1432669.9375 - mean_absolute_error: 1432669.9375 - val_loss: 1175124.1250 - val_mean_absolute_error: 1175124.1250\n",
            "Epoch 18/100\n",
            "33/33 [==============================] - 0s 4ms/step - loss: 1337322.0110 - mean_absolute_error: 1337322.0110 - val_loss: 1187612.6250 - val_mean_absolute_error: 1187612.6250\n",
            "Epoch 19/100\n",
            "33/33 [==============================] - 0s 5ms/step - loss: 1428616.0074 - mean_absolute_error: 1428616.0074 - val_loss: 1370897.3750 - val_mean_absolute_error: 1370897.3750\n",
            "Epoch 20/100\n",
            "33/33 [==============================] - 0s 5ms/step - loss: 1397781.9118 - mean_absolute_error: 1397781.9118 - val_loss: 1204339.2500 - val_mean_absolute_error: 1204339.2500\n",
            "Epoch 21/100\n",
            "33/33 [==============================] - 0s 4ms/step - loss: 1374008.9375 - mean_absolute_error: 1374008.9375 - val_loss: 1239079.0000 - val_mean_absolute_error: 1239079.0000\n",
            "Epoch 22/100\n",
            "33/33 [==============================] - 0s 4ms/step - loss: 1530512.0515 - mean_absolute_error: 1530512.0515 - val_loss: 1346364.6250 - val_mean_absolute_error: 1346364.6250\n",
            "Epoch 23/100\n",
            "33/33 [==============================] - 0s 5ms/step - loss: 1487636.2426 - mean_absolute_error: 1487636.2500 - val_loss: 1195900.7500 - val_mean_absolute_error: 1195900.7500\n",
            "Epoch 24/100\n",
            "33/33 [==============================] - 0s 4ms/step - loss: 1390135.4596 - mean_absolute_error: 1390135.4596 - val_loss: 1208934.3750 - val_mean_absolute_error: 1208934.3750\n",
            "Epoch 25/100\n",
            "33/33 [==============================] - 0s 5ms/step - loss: 1472213.1949 - mean_absolute_error: 1472213.1949 - val_loss: 1192456.2500 - val_mean_absolute_error: 1192456.2500\n",
            "Epoch 26/100\n",
            "33/33 [==============================] - 0s 5ms/step - loss: 1249007.4265 - mean_absolute_error: 1249007.4265 - val_loss: 1274034.2500 - val_mean_absolute_error: 1274034.2500\n",
            "Epoch 27/100\n",
            "33/33 [==============================] - 0s 5ms/step - loss: 1479992.4412 - mean_absolute_error: 1479992.4412 - val_loss: 1229847.5000 - val_mean_absolute_error: 1229847.5000\n",
            "Epoch 28/100\n",
            "33/33 [==============================] - 0s 5ms/step - loss: 1445159.1544 - mean_absolute_error: 1445159.1544 - val_loss: 1256390.6250 - val_mean_absolute_error: 1256390.7500\n",
            "Epoch 29/100\n",
            "33/33 [==============================] - 0s 4ms/step - loss: 1503309.7132 - mean_absolute_error: 1503309.7132 - val_loss: 1189690.8750 - val_mean_absolute_error: 1189690.8750\n",
            "Epoch 30/100\n",
            "33/33 [==============================] - 0s 5ms/step - loss: 1388903.4412 - mean_absolute_error: 1388903.4412 - val_loss: 1205297.1250 - val_mean_absolute_error: 1205297.1250\n",
            "Epoch 31/100\n",
            "33/33 [==============================] - 0s 5ms/step - loss: 1371587.0680 - mean_absolute_error: 1371587.0680 - val_loss: 1172134.5000 - val_mean_absolute_error: 1172134.5000\n",
            "Epoch 32/100\n",
            "33/33 [==============================] - 0s 4ms/step - loss: 1397066.1985 - mean_absolute_error: 1397066.1912 - val_loss: 1202005.5000 - val_mean_absolute_error: 1202005.5000\n",
            "Epoch 33/100\n",
            "33/33 [==============================] - 0s 5ms/step - loss: 1316684.3346 - mean_absolute_error: 1316684.3346 - val_loss: 1175075.8750 - val_mean_absolute_error: 1175075.8750\n",
            "Epoch 34/100\n",
            "33/33 [==============================] - 0s 4ms/step - loss: 1466578.8934 - mean_absolute_error: 1466578.8934 - val_loss: 1315150.0000 - val_mean_absolute_error: 1315150.0000\n",
            "Epoch 35/100\n",
            "33/33 [==============================] - 0s 4ms/step - loss: 1416396.3419 - mean_absolute_error: 1416396.3419 - val_loss: 1188359.2500 - val_mean_absolute_error: 1188359.2500\n",
            "Epoch 36/100\n",
            "33/33 [==============================] - 0s 5ms/step - loss: 1403400.4596 - mean_absolute_error: 1403400.6176 - val_loss: 1171106.6250 - val_mean_absolute_error: 1171106.6250\n",
            "Epoch 37/100\n",
            "33/33 [==============================] - 0s 4ms/step - loss: 1401038.0551 - mean_absolute_error: 1401038.0551 - val_loss: 1187938.3750 - val_mean_absolute_error: 1187938.3750\n",
            "Epoch 38/100\n",
            "33/33 [==============================] - 0s 4ms/step - loss: 1475026.2206 - mean_absolute_error: 1475026.2206 - val_loss: 1190005.3750 - val_mean_absolute_error: 1190005.3750\n",
            "Epoch 39/100\n",
            "33/33 [==============================] - 0s 5ms/step - loss: 1465499.8493 - mean_absolute_error: 1465499.8493 - val_loss: 1311520.2500 - val_mean_absolute_error: 1311520.2500\n",
            "Epoch 40/100\n",
            "33/33 [==============================] - 0s 4ms/step - loss: 1456995.1250 - mean_absolute_error: 1456995.1250 - val_loss: 1216684.8750 - val_mean_absolute_error: 1216684.8750\n",
            "Epoch 41/100\n",
            "33/33 [==============================] - 0s 5ms/step - loss: 1477781.8787 - mean_absolute_error: 1477781.8787 - val_loss: 1169149.5000 - val_mean_absolute_error: 1169149.5000\n",
            "Epoch 42/100\n",
            "33/33 [==============================] - 0s 4ms/step - loss: 1412957.1140 - mean_absolute_error: 1412957.1140 - val_loss: 1200394.7500 - val_mean_absolute_error: 1200394.7500\n",
            "Epoch 43/100\n",
            "33/33 [==============================] - 0s 5ms/step - loss: 1538000.1434 - mean_absolute_error: 1538000.1434 - val_loss: 1222709.2500 - val_mean_absolute_error: 1222709.2500\n",
            "Epoch 44/100\n",
            "33/33 [==============================] - 0s 5ms/step - loss: 1495949.8934 - mean_absolute_error: 1495949.8787 - val_loss: 1203827.5000 - val_mean_absolute_error: 1203827.5000\n",
            "Epoch 45/100\n",
            "33/33 [==============================] - 0s 5ms/step - loss: 1430387.2500 - mean_absolute_error: 1430387.2574 - val_loss: 1211146.2500 - val_mean_absolute_error: 1211146.2500\n",
            "Epoch 46/100\n",
            "33/33 [==============================] - 0s 5ms/step - loss: 1400536.9228 - mean_absolute_error: 1400536.9228 - val_loss: 1179883.5000 - val_mean_absolute_error: 1179883.5000\n",
            "Epoch 47/100\n",
            "33/33 [==============================] - 0s 5ms/step - loss: 1544160.7426 - mean_absolute_error: 1544160.7426 - val_loss: 1194480.5000 - val_mean_absolute_error: 1194480.5000\n",
            "Epoch 48/100\n",
            "33/33 [==============================] - 0s 5ms/step - loss: 1342492.1360 - mean_absolute_error: 1342492.1360 - val_loss: 1167830.8750 - val_mean_absolute_error: 1167830.8750\n",
            "Epoch 49/100\n",
            "33/33 [==============================] - 0s 4ms/step - loss: 1483454.5331 - mean_absolute_error: 1483454.5331 - val_loss: 1167826.7500 - val_mean_absolute_error: 1167826.7500\n",
            "Epoch 50/100\n",
            "33/33 [==============================] - 0s 5ms/step - loss: 1358670.3934 - mean_absolute_error: 1358670.3934 - val_loss: 1241910.8750 - val_mean_absolute_error: 1241910.8750\n",
            "Epoch 51/100\n",
            "33/33 [==============================] - 0s 5ms/step - loss: 1448501.4044 - mean_absolute_error: 1448501.4154 - val_loss: 1234895.3750 - val_mean_absolute_error: 1234895.3750\n",
            "Epoch 52/100\n",
            "33/33 [==============================] - 0s 5ms/step - loss: 1425231.1875 - mean_absolute_error: 1425231.1875 - val_loss: 1201997.8750 - val_mean_absolute_error: 1201997.8750\n",
            "Epoch 53/100\n",
            "33/33 [==============================] - 0s 5ms/step - loss: 1323155.6397 - mean_absolute_error: 1323155.7500 - val_loss: 1292283.1250 - val_mean_absolute_error: 1292283.1250\n",
            "Epoch 54/100\n",
            "33/33 [==============================] - 0s 4ms/step - loss: 1493447.6434 - mean_absolute_error: 1493447.6434 - val_loss: 1190529.8750 - val_mean_absolute_error: 1190529.8750\n",
            "Epoch 55/100\n",
            "33/33 [==============================] - 0s 5ms/step - loss: 1487859.8529 - mean_absolute_error: 1487859.8529 - val_loss: 1238507.7500 - val_mean_absolute_error: 1238507.6250\n",
            "Epoch 56/100\n",
            "33/33 [==============================] - 0s 5ms/step - loss: 1362138.4375 - mean_absolute_error: 1362138.4375 - val_loss: 1218792.2500 - val_mean_absolute_error: 1218792.2500\n",
            "Epoch 57/100\n",
            "33/33 [==============================] - 0s 5ms/step - loss: 1471125.6140 - mean_absolute_error: 1471125.6140 - val_loss: 1196526.1250 - val_mean_absolute_error: 1196526.1250\n",
            "Epoch 58/100\n",
            "33/33 [==============================] - 0s 5ms/step - loss: 1341172.9044 - mean_absolute_error: 1341172.8566 - val_loss: 1224822.7500 - val_mean_absolute_error: 1224822.7500\n",
            "Epoch 59/100\n",
            "33/33 [==============================] - 0s 4ms/step - loss: 1339510.6342 - mean_absolute_error: 1339510.6232 - val_loss: 1242152.8750 - val_mean_absolute_error: 1242152.8750\n",
            "Epoch 60/100\n",
            "33/33 [==============================] - 0s 4ms/step - loss: 1337750.4044 - mean_absolute_error: 1337750.3272 - val_loss: 1254830.6250 - val_mean_absolute_error: 1254830.6250\n",
            "Epoch 61/100\n",
            "33/33 [==============================] - 0s 5ms/step - loss: 1581051.5882 - mean_absolute_error: 1581051.5993 - val_loss: 1249190.7500 - val_mean_absolute_error: 1249190.7500\n",
            "Epoch 62/100\n",
            "33/33 [==============================] - 0s 4ms/step - loss: 1627637.6507 - mean_absolute_error: 1627637.6507 - val_loss: 1230549.7500 - val_mean_absolute_error: 1230549.7500\n",
            "Epoch 63/100\n",
            "33/33 [==============================] - 0s 5ms/step - loss: 1458869.6434 - mean_absolute_error: 1458869.6434 - val_loss: 1176793.6250 - val_mean_absolute_error: 1176793.6250\n",
            "Epoch 64/100\n",
            "33/33 [==============================] - 0s 5ms/step - loss: 1425353.4191 - mean_absolute_error: 1425353.4191 - val_loss: 1170249.8750 - val_mean_absolute_error: 1170249.8750\n",
            "Epoch 65/100\n",
            "33/33 [==============================] - 0s 5ms/step - loss: 1377517.6507 - mean_absolute_error: 1377517.6360 - val_loss: 1205914.8750 - val_mean_absolute_error: 1205914.8750\n",
            "Epoch 66/100\n",
            "33/33 [==============================] - 0s 5ms/step - loss: 1344259.1930 - mean_absolute_error: 1344259.2004 - val_loss: 1163565.3750 - val_mean_absolute_error: 1163565.3750\n",
            "Epoch 67/100\n",
            "33/33 [==============================] - 0s 5ms/step - loss: 1395521.9301 - mean_absolute_error: 1395521.9301 - val_loss: 1268662.8750 - val_mean_absolute_error: 1268663.0000\n",
            "Epoch 68/100\n",
            "33/33 [==============================] - 0s 5ms/step - loss: 1442008.3364 - mean_absolute_error: 1442008.3364 - val_loss: 1223341.7500 - val_mean_absolute_error: 1223341.7500\n",
            "Epoch 69/100\n",
            "33/33 [==============================] - 0s 5ms/step - loss: 1434231.7978 - mean_absolute_error: 1434231.7941 - val_loss: 1240588.3750 - val_mean_absolute_error: 1240588.3750\n",
            "Epoch 70/100\n",
            "33/33 [==============================] - 0s 5ms/step - loss: 1404522.6324 - mean_absolute_error: 1404522.6324 - val_loss: 1297586.1250 - val_mean_absolute_error: 1297586.1250\n",
            "Epoch 71/100\n",
            "33/33 [==============================] - 0s 5ms/step - loss: 1352983.8934 - mean_absolute_error: 1352983.8934 - val_loss: 1252655.0000 - val_mean_absolute_error: 1252655.0000\n",
            "Epoch 72/100\n",
            "33/33 [==============================] - 0s 5ms/step - loss: 1311388.5423 - mean_absolute_error: 1311388.5423 - val_loss: 1179158.2500 - val_mean_absolute_error: 1179158.2500\n",
            "Epoch 73/100\n",
            "33/33 [==============================] - 0s 5ms/step - loss: 1387602.9062 - mean_absolute_error: 1387602.9062 - val_loss: 1165742.1250 - val_mean_absolute_error: 1165742.1250\n",
            "Epoch 74/100\n",
            "33/33 [==============================] - 0s 5ms/step - loss: 1442422.8419 - mean_absolute_error: 1442422.8419 - val_loss: 1173486.3750 - val_mean_absolute_error: 1173486.3750\n",
            "Epoch 75/100\n",
            "33/33 [==============================] - 0s 5ms/step - loss: 1474061.8676 - mean_absolute_error: 1474061.7794 - val_loss: 1175187.5000 - val_mean_absolute_error: 1175187.5000\n",
            "Epoch 76/100\n",
            "33/33 [==============================] - 0s 9ms/step - loss: 1440334.0257 - mean_absolute_error: 1440334.1838 - val_loss: 1168824.0000 - val_mean_absolute_error: 1168824.0000\n",
            "Epoch 77/100\n",
            "33/33 [==============================] - 0s 5ms/step - loss: 1458312.5331 - mean_absolute_error: 1458312.6875 - val_loss: 1160680.7500 - val_mean_absolute_error: 1160680.7500\n",
            "Epoch 78/100\n",
            "33/33 [==============================] - 0s 4ms/step - loss: 1426390.5699 - mean_absolute_error: 1426390.5699 - val_loss: 1182973.0000 - val_mean_absolute_error: 1182973.0000\n",
            "Epoch 79/100\n",
            "33/33 [==============================] - 0s 5ms/step - loss: 1461334.6250 - mean_absolute_error: 1461334.6324 - val_loss: 1164718.2500 - val_mean_absolute_error: 1164718.2500\n",
            "Epoch 80/100\n",
            "33/33 [==============================] - 0s 5ms/step - loss: 1480900.4118 - mean_absolute_error: 1480900.3529 - val_loss: 1195232.1250 - val_mean_absolute_error: 1195232.1250\n",
            "Epoch 81/100\n",
            "33/33 [==============================] - 0s 6ms/step - loss: 1348293.1544 - mean_absolute_error: 1348293.1654 - val_loss: 1192860.7500 - val_mean_absolute_error: 1192860.7500\n",
            "Epoch 82/100\n",
            "33/33 [==============================] - 0s 5ms/step - loss: 1455679.0809 - mean_absolute_error: 1455679.0809 - val_loss: 1158586.2500 - val_mean_absolute_error: 1158586.2500\n",
            "Epoch 83/100\n",
            "33/33 [==============================] - 0s 4ms/step - loss: 1474633.1103 - mean_absolute_error: 1474633.1103 - val_loss: 1213424.2500 - val_mean_absolute_error: 1213424.2500\n",
            "Epoch 84/100\n",
            "33/33 [==============================] - 0s 5ms/step - loss: 1520175.3199 - mean_absolute_error: 1520175.3199 - val_loss: 1198415.2500 - val_mean_absolute_error: 1198415.2500\n",
            "Epoch 85/100\n",
            "33/33 [==============================] - 0s 5ms/step - loss: 1406087.0386 - mean_absolute_error: 1406087.0386 - val_loss: 1157524.5000 - val_mean_absolute_error: 1157524.5000\n",
            "Epoch 86/100\n",
            "33/33 [==============================] - 0s 5ms/step - loss: 1445060.7978 - mean_absolute_error: 1445060.7978 - val_loss: 1157902.5000 - val_mean_absolute_error: 1157902.5000\n",
            "Epoch 87/100\n",
            "33/33 [==============================] - 0s 4ms/step - loss: 1311164.9393 - mean_absolute_error: 1311164.9393 - val_loss: 1165990.3750 - val_mean_absolute_error: 1165990.3750\n",
            "Epoch 88/100\n",
            "33/33 [==============================] - 0s 4ms/step - loss: 1466414.0074 - mean_absolute_error: 1466414.0074 - val_loss: 1191617.3750 - val_mean_absolute_error: 1191617.3750\n",
            "Epoch 89/100\n",
            "33/33 [==============================] - 0s 5ms/step - loss: 1512297.1691 - mean_absolute_error: 1512297.1691 - val_loss: 1164737.5000 - val_mean_absolute_error: 1164737.5000\n",
            "Epoch 90/100\n",
            "33/33 [==============================] - 0s 4ms/step - loss: 1438909.9228 - mean_absolute_error: 1438909.8493 - val_loss: 1161631.0000 - val_mean_absolute_error: 1161631.0000\n",
            "Epoch 91/100\n",
            "33/33 [==============================] - 0s 5ms/step - loss: 1421750.5110 - mean_absolute_error: 1421750.5110 - val_loss: 1190378.6250 - val_mean_absolute_error: 1190378.6250\n",
            "Epoch 92/100\n",
            "33/33 [==============================] - 0s 4ms/step - loss: 1468818.0551 - mean_absolute_error: 1468818.0551 - val_loss: 1168688.3750 - val_mean_absolute_error: 1168688.3750\n",
            "Epoch 93/100\n",
            "33/33 [==============================] - 0s 5ms/step - loss: 1411064.0110 - mean_absolute_error: 1411064.0074 - val_loss: 1245979.7500 - val_mean_absolute_error: 1245979.7500\n",
            "Epoch 94/100\n",
            "33/33 [==============================] - 0s 5ms/step - loss: 1362380.7941 - mean_absolute_error: 1362380.7941 - val_loss: 1191705.7500 - val_mean_absolute_error: 1191705.7500\n",
            "Epoch 95/100\n",
            "33/33 [==============================] - 0s 5ms/step - loss: 1409179.4706 - mean_absolute_error: 1409179.4706 - val_loss: 1155202.1250 - val_mean_absolute_error: 1155202.1250\n",
            "Epoch 96/100\n",
            "33/33 [==============================] - 0s 5ms/step - loss: 1539201.9375 - mean_absolute_error: 1539201.9375 - val_loss: 1219771.1250 - val_mean_absolute_error: 1219771.1250\n",
            "Epoch 97/100\n",
            "33/33 [==============================] - 0s 5ms/step - loss: 1429447.6765 - mean_absolute_error: 1429447.6765 - val_loss: 1164151.0000 - val_mean_absolute_error: 1164151.0000\n",
            "Epoch 98/100\n",
            "33/33 [==============================] - 0s 5ms/step - loss: 1386431.5956 - mean_absolute_error: 1386431.5956 - val_loss: 1181464.8750 - val_mean_absolute_error: 1181464.8750\n",
            "Epoch 99/100\n",
            "33/33 [==============================] - 0s 5ms/step - loss: 1532792.4265 - mean_absolute_error: 1532792.4338 - val_loss: 1163445.7500 - val_mean_absolute_error: 1163445.7500\n",
            "Epoch 100/100\n",
            "33/33 [==============================] - 0s 5ms/step - loss: 1374631.3456 - mean_absolute_error: 1374631.3456 - val_loss: 1160788.6250 - val_mean_absolute_error: 1160788.6250\n"
          ],
          "name": "stdout"
        }
      ]
    },
    {
      "cell_type": "code",
      "metadata": {
        "colab": {
          "base_uri": "https://localhost:8080/",
          "height": 360
        },
        "id": "G2T5WEDalGSE",
        "outputId": "94822911-279d-4faa-9e51-60f95b579aff"
      },
      "source": [
        "prediction=model.predict(X_test)\n",
        "sns.distplot(Y_test.values.reshape(-1,1)-prediction)"
      ],
      "execution_count": 37,
      "outputs": [
        {
          "output_type": "stream",
          "text": [
            "/usr/local/lib/python3.6/dist-packages/seaborn/distributions.py:2557: FutureWarning: `distplot` is a deprecated function and will be removed in a future version. Please adapt your code to use either `displot` (a figure-level function with similar flexibility) or `histplot` (an axes-level function for histograms).\n",
            "  warnings.warn(msg, FutureWarning)\n"
          ],
          "name": "stderr"
        },
        {
          "output_type": "execute_result",
          "data": {
            "text/plain": [
              "<matplotlib.axes._subplots.AxesSubplot at 0x7f40c428ba58>"
            ]
          },
          "metadata": {
            "tags": []
          },
          "execution_count": 37
        },
        {
          "output_type": "display_data",
          "data": {
            "image/png": "[encoded data removed]",
            "text/plain": [
              "<Figure size 432x288 with 1 Axes>"
            ]
          },
          "metadata": {
            "tags": [],
            "needs_background": "light"
          }
        }
      ]
    },
    {
      "cell_type": "code",
      "metadata": {
        "colab": {
          "base_uri": "https://localhost:8080/",
          "height": 306
        },
        "id": "7QJ1H3A6mSsX",
        "outputId": "29088901-34fd-4568-ae8d-222cf3ebc7c9"
      },
      "source": [
        "plt.scatter(Y_test,prediction)"
      ],
      "execution_count": 38,
      "outputs": [
        {
          "output_type": "execute_result",
          "data": {
            "text/plain": [
              "<matplotlib.collections.PathCollection at 0x7f40c4d04860>"
            ]
          },
          "metadata": {
            "tags": []
          },
          "execution_count": 38
        },
        {
          "output_type": "display_data",
          "data": {
            "image/png": "[encoded data removed]",
            "text/plain": [
              "<Figure size 432x288 with 1 Axes>"
            ]
          },
          "metadata": {
            "tags": [],
            "needs_background": "light"
          }
        }
      ]
    },
    {
      "cell_type": "code",
      "metadata": {
        "colab": {
          "base_uri": "https://localhost:8080/"
        },
        "id": "iRDs6q4WmiL6",
        "outputId": "ac0a7231-f0d0-4f65-afcd-6945149fc9b4"
      },
      "source": [
        "from sklearn import metrics\n",
        "print(\"R2 score =\", round(metrics.r2_score(Y_test, prediction), 2))"
      ],
      "execution_count": 39,
      "outputs": [
        {
          "output_type": "stream",
          "text": [
            "R2 score = 0.42\n"
          ],
          "name": "stdout"
        }
      ]
    }
  ]
}