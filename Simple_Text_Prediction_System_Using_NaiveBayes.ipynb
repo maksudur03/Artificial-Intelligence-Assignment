{
  "nbformat": 4,
  "nbformat_minor": 0,
  "metadata": {
    "colab": {
      "name": "Simple_Text_Prediction_System_Using_NaiveBayes.ipynb",
      "provenance": [],
      "authorship_tag": "ABX9TyPkY3y/jQsF7F1Tqxe2M35Q",
      "include_colab_link": true
    },
    "kernelspec": {
      "name": "python3",
      "display_name": "Python 3"
    }
  },
  "cells": [
    {
      "cell_type": "markdown",
      "metadata": {
        "id": "view-in-github",
        "colab_type": "text"
      },
      "source": [
        "<a href=\"https://colab.research.google.com/github/maksudur03/Artificial-Intelligence-Assignment/blob/main/Simple_Text_Prediction_System_Using_NaiveBayes.ipynb\" target=\"_parent\"><img src=\"https://colab.research.google.com/assets/colab-badge.svg\" alt=\"Open In Colab\"/></a>"
      ]
    },
    {
      "cell_type": "code",
      "metadata": {
        "id": "UyKTRAKTr8o7"
      },
      "source": [
        "import nltk\n",
        "from nltk import bigrams,trigrams\n",
        "from nltk.corpus import gutenberg\n",
        "from collections import defaultdict\n"
      ],
      "execution_count": 68,
      "outputs": []
    },
    {
      "cell_type": "code",
      "metadata": {
        "colab": {
          "base_uri": "https://localhost:8080/"
        },
        "id": "veMTuLhwsB2F",
        "outputId": "dd3a4d91-f88e-4676-f2f2-45aed3a0435f"
      },
      "source": [
        "nltk.download('gutenberg')\n",
        "nltk.download('punkt')"
      ],
      "execution_count": 69,
      "outputs": [
        {
          "output_type": "stream",
          "text": [
            "[nltk_data] Downloading package gutenberg to /root/nltk_data...\n",
            "[nltk_data]   Package gutenberg is already up-to-date!\n",
            "[nltk_data] Downloading package punkt to /root/nltk_data...\n",
            "[nltk_data]   Package punkt is already up-to-date!\n"
          ],
          "name": "stdout"
        },
        {
          "output_type": "execute_result",
          "data": {
            "text/plain": [
              "True"
            ]
          },
          "metadata": {
            "tags": []
          },
          "execution_count": 69
        }
      ]
    },
    {
      "cell_type": "code",
      "metadata": {
        "id": "nQ1JjaDNsLPY"
      },
      "source": [
        "wordCount = 0\n",
        "\n",
        "unigram_Model = defaultdict(lambda: 0)\n",
        "bigram_Model = defaultdict(lambda: defaultdict(lambda: 0))\n",
        "trigram_Model = defaultdict(lambda: defaultdict(lambda: 0))\n",
        "\n",
        "model_1 = defaultdict(lambda: set())\n",
        "model_2 = defaultdict(lambda: set())"
      ],
      "execution_count": 70,
      "outputs": []
    },
    {
      "cell_type": "code",
      "metadata": {
        "id": "9v8f3PYysZ0q"
      },
      "source": [
        "def makeWordLowercas(ch):\n",
        "  if type(ch)==str:\n",
        "    return ch.lower()\n",
        "  return ch\n"
      ],
      "execution_count": 71,
      "outputs": []
    },
    {
      "cell_type": "code",
      "metadata": {
        "id": "q3bL6SU-sirl"
      },
      "source": [
        "for fileid in gutenberg.fileids():  \n",
        "   for sentence in gutenberg.sents(fileid):\n",
        "      for word in sentence:\n",
        "         unigram_Model[word] += 1\n",
        "         wordCount +=1\n",
        "\n",
        "      for firstWord, secondWord, thirdWord in trigrams(sentence, pad_right=True, pad_left=True):\n",
        "          firstWord = makeWordLowercase(firstWord)\n",
        "          secondWord = makeWordLowercase(secondWord)\n",
        "          thirdWord = makeWordLowercase(thirdWord)\n",
        "\n",
        "          bigram_Model[thirdWord][secondWord] += 1\n",
        "          trigram_Model[thirdWord][firstWord] += 1\n",
        "\n",
        "          model_1[secondWord].add(thirdWord)\n",
        "          model_2[firstWord].add(thirdWord)"
      ],
      "execution_count": 72,
      "outputs": []
    },
    {
      "cell_type": "code",
      "metadata": {
        "id": "Kcttm7s6s_BR"
      },
      "source": [
        "def findProbablities(model):\n",
        "  for nextWord in model:\n",
        "    totalCount = float(sum(model[nextWord].values()))\n",
        "    for prevWord in model[nextWord]:\n",
        "        model[nextWord][prevWord] /= totalCount\n",
        "\n",
        "findProbablities(bigram_Model)\n",
        "findProbablities(trigram_Model)"
      ],
      "execution_count": 73,
      "outputs": []
    },
    {
      "cell_type": "code",
      "metadata": {
        "id": "w4Rj-8mVtyBv"
      },
      "source": [
        "def calculateTrigramProbabilityWithChainRule(firstWord, secondWord, thirdWord):\n",
        "  return unigram_Model[thirdWord]*bigram_Model[thirdWord][secondWord]*trigram_Model[thirdWord][firstWord]"
      ],
      "execution_count": 74,
      "outputs": []
    },
    {
      "cell_type": "code",
      "metadata": {
        "id": "_v_OplwNtUNP"
      },
      "source": [
        "for word in unigram_Model:\n",
        "  unigram_Model[word] /= wordCount"
      ],
      "execution_count": 75,
      "outputs": []
    },
    {
      "cell_type": "code",
      "metadata": {
        "id": "-Em0N__Etw8Y"
      },
      "source": [
        "result=[]\n",
        "def suggestNextWord(firstWord,secondWord):\n",
        "  for thirdWord in model_1[secondWord] & model_2[firstWord]:\n",
        "    res = calculateTrigramProbabilityWithChainRule(firstWord,secondWord,thirdWord)\n",
        "    result.append((thirdWord,res))"
      ],
      "execution_count": 86,
      "outputs": []
    },
    {
      "cell_type": "code",
      "metadata": {
        "colab": {
          "base_uri": "https://localhost:8080/"
        },
        "id": "v8Q4IoKsuXCU",
        "outputId": "c173a82d-e47d-4a11-8372-fb6ddc965702"
      },
      "source": [
        "suggestNextWord('do','you')\n",
        "result.sort(key=lambda o: o[1],reverse=True)\n",
        "print(*result[:15])"
      ],
      "execution_count": 87,
      "outputs": [
        {
          "output_type": "stream",
          "text": [
            "('know', 1.5674527311337478e-05) ('mean', 1.1285582228077522e-05) ('think', 5.980178579042271e-06) ('want', 2.197884328916847e-06) ('see', 1.2220128637971009e-06) ('suppose', 7.283540105025915e-07) (',', 7.205057966901316e-07) ('say', 4.985302997116451e-07) ('.', 4.797404792140163e-07) ('understand', 4.710985254775077e-07) ('imagine', 4.537589387828363e-07) ('really', 3.9853200247475087e-07) ('do', 3.974323551270522e-07) ('tantalize', 3.8141952906130747e-07) ('will', 3.599316137243531e-07)\n"
          ],
          "name": "stdout"
        }
      ]
    }
  ]
}